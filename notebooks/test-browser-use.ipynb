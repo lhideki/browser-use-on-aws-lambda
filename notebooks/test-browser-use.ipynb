{
 "cells": [
  {
   "cell_type": "code",
   "execution_count": null,
   "metadata": {},
   "outputs": [
    {
     "name": "stdout",
     "output_type": "stream",
     "text": [
      "INFO     [browser_use] BrowserUse logging setup complete with level info\n",
      "INFO     [root] Anonymized telemetry enabled. See https://github.com/gregpr07/browser-use for more information.\n",
      "INFO     [agent] 🚀 Starting task: www.inoue-kobo.com を開いて、最新の記事から3つを要約して、Markdownの表形式で表示してください。\n",
      "INFO     [agent] \n",
      "📍 Step 1\n",
      "INFO     [agent] 🤷 Eval: Unknown - The page is currently blank and there's no previous goal to evaluate.\n",
      "INFO     [agent] 🧠 Memory: Need to open www.inoue-kobo.com and summarize the latest three articles.\n",
      "INFO     [agent] 🎯 Next goal: Open the website www.inoue-kobo.com to access the latest articles.\n",
      "INFO     [agent] 🛠️  Action 1/1: {\"go_to_url\":{\"url\":\"https://www.inoue-kobo.com\"}}\n",
      "INFO     [controller] 🔗  Navigated to https://www.inoue-kobo.com\n",
      "INFO     [agent] \n",
      "📍 Step 2\n",
      "INFO     [agent] 👍 Eval: Success - The website was successfully opened and the latest articles are visible.\n",
      "INFO     [agent] 🧠 Memory: Need to summarize the latest three articles from the website.\n",
      "INFO     [agent] 🎯 Next goal: Summarize the latest three articles visible on the page.\n",
      "INFO     [agent] 🛠️  Action 1/1: {\"done\":{\"text\":\"| Date | Title | Summary |\\n|------|-------|---------|\\n| 2024-11-28 | 業務会社がシステム開発を外注する際の体制と要点 | This article explains the structure and key points when outsourcing system development. It covers the overall process and roles of each organization involved. |\\n| 2024-11-11 | Notion Databaseで管理しているリーディングリストを ホームページに掲載する | This article discusses the setup for regularly and automatically publishing a reading list managed by Notion Database to a homepage. |\\n| 2024-11-10 | Notionに記録したWebサイトのリーディングリストをMarkdown形式で出力するスクリプト | It describes a script that exports a reading list recorded in Notion to Markdown format, outlining the intended workflow. |\"}}\n",
      "INFO     [agent] 📄 Result: | Date | Title | Summary |\n",
      "|------|-------|---------|\n",
      "| 2024-11-28 | 業務会社がシステム開発を外注する際の体制と要点 | This article explains the structure and key points when outsourcing system development. It covers the overall process and roles of each organization involved. |\n",
      "| 2024-11-11 | Notion Databaseで管理しているリーディングリストを ホームページに掲載する | This article discusses the setup for regularly and automatically publishing a reading list managed by Notion Database to a homepage. |\n",
      "| 2024-11-10 | Notionに記録したWebサイトのリーディングリストをMarkdown形式で出力するスクリプト | It describes a script that exports a reading list recorded in Notion to Markdown format, outlining the intended workflow. |\n",
      "INFO     [agent] ✅ Task completed successfully\n",
      "AgentHistoryList(all_results=[ActionResult(is_done=False, extracted_content='🔗  Navigated to https://www.inoue-kobo.com', error=None, include_in_memory=True), ActionResult(is_done=True, extracted_content='| Date | Title | Summary |\\n|------|-------|---------|\\n| 2024-11-28 | 業務会社がシステム開発を外注する際の体制と要点 | This article explains the structure and key points when outsourcing system development. It covers the overall process and roles of each organization involved. |\\n| 2024-11-11 | Notion Databaseで管理しているリーディングリストを ホームページに掲載する | This article discusses the setup for regularly and automatically publishing a reading list managed by Notion Database to a homepage. |\\n| 2024-11-10 | Notionに記録したWebサイトのリーディングリストをMarkdown形式で出力するスクリプト | It describes a script that exports a reading list recorded in Notion to Markdown format, outlining the intended workflow. |', error=None, include_in_memory=False)], all_model_outputs=[{'go_to_url': {'url': 'https://www.inoue-kobo.com'}}, {'done': {'text': '| Date | Title | Summary |\\n|------|-------|---------|\\n| 2024-11-28 | 業務会社がシステム開発を外注する際の体制と要点 | This article explains the structure and key points when outsourcing system development. It covers the overall process and roles of each organization involved. |\\n| 2024-11-11 | Notion Databaseで管理しているリーディングリストを ホームページに掲載する | This article discusses the setup for regularly and automatically publishing a reading list managed by Notion Database to a homepage. |\\n| 2024-11-10 | Notionに記録したWebサイトのリーディングリストをMarkdown形式で出力するスクリプト | It describes a script that exports a reading list recorded in Notion to Markdown format, outlining the intended workflow. |'}}])\n"
     ]
    }
   ],
   "source": [
    "from langchain_openai import ChatOpenAI\n",
    "from browser_use import Agent\n",
    "import asyncio\n",
    "\n",
    "\n",
    "agent = Agent(\n",
    "    task=\"www.inoue-kobo.com を開いて、最新の記事から3つを要約して、それぞれ中身を少し確認してから、Markdownの表形式で表示してください。\",\n",
    "    llm=ChatOpenAI(model=\"gpt-4o\"),\n",
    ")\n",
    "result = await agent.run()\n",
    "print(result)"
   ]
  },
  {
   "cell_type": "code",
   "execution_count": 2,
   "metadata": {},
   "outputs": [
    {
     "data": {
      "text/plain": [
       "'| Date | Title | Summary |\\n|------|-------|---------|\\n| 2024-11-28 | 業務会社がシステム開発を外注する際の体制と要点 | This article explains the structure and key points when outsourcing system development. It covers the overall process and roles of each organization involved. |\\n| 2024-11-11 | Notion Databaseで管理しているリーディングリストを ホームページに掲載する | This article discusses the setup for regularly and automatically publishing a reading list managed by Notion Database to a homepage. |\\n| 2024-11-10 | Notionに記録したWebサイトのリーディングリストをMarkdown形式で出力するスクリプト | It describes a script that exports a reading list recorded in Notion to Markdown format, outlining the intended workflow. |'"
      ]
     },
     "execution_count": 2,
     "metadata": {},
     "output_type": "execute_result"
    }
   ],
   "source": [
    "result.final_result()"
   ]
  }
 ],
 "metadata": {
  "kernelspec": {
   "display_name": ".venv",
   "language": "python",
   "name": "python3"
  },
  "language_info": {
   "codemirror_mode": {
    "name": "ipython",
    "version": 3
   },
   "file_extension": ".py",
   "mimetype": "text/x-python",
   "name": "python",
   "nbconvert_exporter": "python",
   "pygments_lexer": "ipython3",
   "version": "3.11.11"
  }
 },
 "nbformat": 4,
 "nbformat_minor": 2
}
